{
 "cells": [
  {
   "cell_type": "code",
   "execution_count": null,
   "metadata": {},
   "outputs": [],
   "source": [
    "from collections import defaultdict, Counter\n",
    "\n",
    "import graphviz\n",
    "import string\n",
    "import json\n",
    "import os"
   ]
  },
  {
   "cell_type": "code",
   "execution_count": null,
   "metadata": {},
   "outputs": [],
   "source": [
    "coverage_path = '../data/converage.json'\n",
    "func_graph_path = '../res/dotfiles'\n",
    "mapping_path = '../data/mapping.json'"
   ]
  },
  {
   "cell_type": "code",
   "execution_count": null,
   "metadata": {},
   "outputs": [],
   "source": [
    "mapping = json.load(open(mapping_path, 'r'))"
   ]
  },
  {
   "cell_type": "code",
   "execution_count": null,
   "metadata": {},
   "outputs": [],
   "source": [
    "coverage = json.load(open(coverage_path, 'r'))"
   ]
  },
  {
   "cell_type": "code",
   "execution_count": null,
   "metadata": {},
   "outputs": [],
   "source": [
    "covered_set = set()"
   ]
  },
  {
   "cell_type": "code",
   "execution_count": null,
   "metadata": {},
   "outputs": [],
   "source": [
    "for run, blocks in coverage.items():\n",
    "    covered_set |= set(blocks)"
   ]
  },
  {
   "cell_type": "code",
   "execution_count": null,
   "metadata": {},
   "outputs": [],
   "source": [
    "print(len(covered_set))"
   ]
  },
  {
   "cell_type": "code",
   "execution_count": null,
   "metadata": {},
   "outputs": [],
   "source": [
    "overlaps = Counter()"
   ]
  },
  {
   "cell_type": "code",
   "execution_count": null,
   "metadata": {},
   "outputs": [],
   "source": [
    "for function, blocklist in mapping.items():\n",
    "    overlaps[function] = len(covered_set & set([int(b, 16) for b in blocklist]))"
   ]
  },
  {
   "cell_type": "code",
   "execution_count": null,
   "metadata": {
    "scrolled": false
   },
   "outputs": [],
   "source": [
    "print(overlaps.most_common(10))"
   ]
  },
  {
   "cell_type": "code",
   "execution_count": null,
   "metadata": {},
   "outputs": [],
   "source": [
    "print(sum(overlaps.values()))"
   ]
  },
  {
   "cell_type": "code",
   "execution_count": null,
   "metadata": {},
   "outputs": [],
   "source": [
    "# Cycle through the dotfiles\n",
    "for graph_file in os.listdir(func_graph_path):\n",
    "    \n",
    "    if '_compressed.dot' in graph_file or '_map.json' in graph_file:\n",
    "        continue\n",
    "    \n",
    "    # Dictionary mapping the block identifier with the block content for this function\n",
    "    address_label = {}\n",
    "    \n",
    "    func_graph = os.path.join(func_graph_path, graph_file)\n",
    "    func_graph_compressed = os.path.join(\n",
    "        func_graph_path,\n",
    "        graph_file.split('.')[0] + '_compressed.dot'\n",
    "    )\n",
    "    func_map = os.path.join(\n",
    "        func_graph_path,\n",
    "        graph_file.split('.')[0] + '_map.json'\n",
    "    )\n",
    "    \n",
    "    # Read the function graph file\n",
    "    with open(func_graph, 'r') as in_file:\n",
    "        \n",
    "        # Open compressed output file\n",
    "        with open(func_graph_compressed, 'w') as out_file:\n",
    "\n",
    "            for line in in_file.readlines():\n",
    "\n",
    "                if 'node [fillcolor=gray style=filled shape=box];' in line:\n",
    "                    new_line = '\\tnode [fillcolor=gray style=filled];\\n'\n",
    "\n",
    "                elif 'label=' in line:\n",
    "                    address_g = line.split()[0]\n",
    "                    address_m = line.split()[0].strip().translate(None, string.punctuation)\n",
    "                    content = line.split('label=')[1][:-2].replace('\\l', '\\n').translate(None, '\"')\n",
    "                    address_label[address_m] = content\n",
    "                    new_line = line.split('label=')[0] + 'label=' + address_g + ']' + os.linesep\n",
    "\n",
    "                else:\n",
    "                    new_line = line\n",
    "\n",
    "                out_file.write(new_line)\n",
    "        \n",
    "        \n",
    "    # Dump the json mapping for this function\n",
    "    json.dump(address_label, open(func_map, 'w'), indent=2)"
   ]
  },
  {
   "cell_type": "code",
   "execution_count": null,
   "metadata": {},
   "outputs": [],
   "source": [
    "functions = [key for key in mapping.keys() if key != '_unknown' and '__x86.' not in key]\n",
    "print(len(functions))"
   ]
  },
  {
   "cell_type": "code",
   "execution_count": null,
   "metadata": {},
   "outputs": [],
   "source": []
  },
  {
   "cell_type": "code",
   "execution_count": null,
   "metadata": {},
   "outputs": [],
   "source": []
  }
 ],
 "metadata": {
  "kernelspec": {
   "display_name": "Python 2",
   "language": "python",
   "name": "python2"
  },
  "language_info": {
   "codemirror_mode": {
    "name": "ipython",
    "version": 2
   },
   "file_extension": ".py",
   "mimetype": "text/x-python",
   "name": "python",
   "nbconvert_exporter": "python",
   "pygments_lexer": "ipython2",
   "version": "2.7.15rc1"
  }
 },
 "nbformat": 4,
 "nbformat_minor": 2
}
