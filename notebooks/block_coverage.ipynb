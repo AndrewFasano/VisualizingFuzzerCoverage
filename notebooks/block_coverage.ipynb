{
 "cells": [
  {
   "cell_type": "code",
   "execution_count": 1,
   "metadata": {},
   "outputs": [],
   "source": [
    "from collections import defaultdict, Counter\n",
    "\n",
    "import graphviz\n",
    "import yaml\n",
    "import json\n",
    "import os"
   ]
  },
  {
   "cell_type": "code",
   "execution_count": 6,
   "metadata": {},
   "outputs": [],
   "source": [
    "coverage_path = '../data/memdjpeg_coverage/data_14.yaml'\n",
    "func_graph_path = '../data/main.dot'\n",
    "mapping_path = '../data/mapping.json'"
   ]
  },
  {
   "cell_type": "code",
   "execution_count": 7,
   "metadata": {},
   "outputs": [],
   "source": [
    "mapping = json.load(open(mapping_path, 'r'))"
   ]
  },
  {
   "cell_type": "code",
   "execution_count": 9,
   "metadata": {},
   "outputs": [],
   "source": [
    "coverage = yaml.load(open(coverage_path, 'r'), Loader=yaml.SafeLoader)"
   ]
  },
  {
   "cell_type": "code",
   "execution_count": 11,
   "metadata": {},
   "outputs": [],
   "source": [
    "covered_set = set()"
   ]
  },
  {
   "cell_type": "code",
   "execution_count": 13,
   "metadata": {},
   "outputs": [],
   "source": [
    "for run, blocks in coverage.items():\n",
    "    covered_set |= set(blocks)"
   ]
  },
  {
   "cell_type": "code",
   "execution_count": 14,
   "metadata": {},
   "outputs": [
    {
     "name": "stdout",
     "output_type": "stream",
     "text": [
      "3889\n"
     ]
    }
   ],
   "source": [
    "print(len(covered_set))"
   ]
  },
  {
   "cell_type": "code",
   "execution_count": 15,
   "metadata": {},
   "outputs": [],
   "source": [
    "overlaps = Counter()"
   ]
  },
  {
   "cell_type": "code",
   "execution_count": 16,
   "metadata": {},
   "outputs": [],
   "source": [
    "for function, blocklist in mapping.items():\n",
    "    overlaps[function] = len(covered_set & set([int(b, 16) for b in blocklist]))"
   ]
  },
  {
   "cell_type": "code",
   "execution_count": 17,
   "metadata": {
    "scrolled": false
   },
   "outputs": [
    {
     "data": {
      "text/plain": [
       "[(u'start_pass', 153),\n",
       " (u'_unknown', 119),\n",
       " (u'decode_mcu', 115),\n",
       " (u'decode_mcu_AC_refine', 94),\n",
       " (u'decompress_smooth_data', 94),\n",
       " (u'jpeg_make_d_derived_tbl', 90),\n",
       " (u'get_dht', 83),\n",
       " (u'get_sos', 75),\n",
       " (u'start_pass_huff_decoder', 71),\n",
       " (u'decode_mcu_AC_first', 71)]"
      ]
     },
     "execution_count": 17,
     "metadata": {},
     "output_type": "execute_result"
    }
   ],
   "source": [
    "overlaps.most_common(10)"
   ]
  },
  {
   "cell_type": "code",
   "execution_count": 18,
   "metadata": {},
   "outputs": [
    {
     "data": {
      "text/plain": [
       "2948"
      ]
     },
     "execution_count": 18,
     "metadata": {},
     "output_type": "execute_result"
    }
   ],
   "source": [
    "sum(overlaps.values())"
   ]
  },
  {
   "cell_type": "code",
   "execution_count": 19,
   "metadata": {},
   "outputs": [],
   "source": [
    "address_label = {}"
   ]
  },
  {
   "cell_type": "code",
   "execution_count": null,
   "metadata": {},
   "outputs": [],
   "source": [
    "with open(func_graph_path, 'r') as in_file:\n",
    "    with open('res/main_compressed.dot', 'w') as out_file:\n",
    "        \n",
    "        for line in in_file.readlines():\n",
    "            \n",
    "            if 'label=' in line:\n",
    "                address = line.split()[0]\n",
    "                content = line.split('label=')[1].split(']')[0]\n",
    "                address_label[address] = content\n",
    "                new_line = line.split('label=')[0] + 'label=' + address + ']' + os.linesep\n",
    "                out_file.write(new_line)\n",
    "            \n",
    "            else:\n",
    "                out_file.write(line)"
   ]
  },
  {
   "cell_type": "code",
   "execution_count": 34,
   "metadata": {},
   "outputs": [
    {
     "name": "stdout",
     "output_type": "stream",
     "text": [
      "447\n"
     ]
    }
   ],
   "source": [
    "functions = [key for key in mapping.keys() if key != '_unknown']\n",
    "print(len(functions))"
   ]
  },
  {
   "cell_type": "code",
   "execution_count": null,
   "metadata": {},
   "outputs": [],
   "source": []
  }
 ],
 "metadata": {
  "kernelspec": {
   "display_name": "Python 2",
   "language": "python",
   "name": "python2"
  },
  "language_info": {
   "codemirror_mode": {
    "name": "ipython",
    "version": 2
   },
   "file_extension": ".py",
   "mimetype": "text/x-python",
   "name": "python",
   "nbconvert_exporter": "python",
   "pygments_lexer": "ipython2",
   "version": "2.7.15rc1"
  }
 },
 "nbformat": 4,
 "nbformat_minor": 2
}
